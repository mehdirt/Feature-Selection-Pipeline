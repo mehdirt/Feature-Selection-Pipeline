{
 "cells": [
  {
   "cell_type": "code",
   "execution_count": 1,
   "metadata": {},
   "outputs": [],
   "source": [
    "# Importing Libraries\n",
    "import numpy as np\n",
    "import pandas as pd\n",
    "from functools import reduce\n",
    "from sklearn.model_selection import train_test_split, RepeatedKFold, StratifiedShuffleSplit, GridSearchCV\n",
    "# Importing our modules\n",
    "from pipeline.selection_pipeline import SelectionPipeline\n",
    "from selection_methods.lasso_method import LassoMethod\n",
    "from selection_methods.alasso_method import AlassoMethod\n",
    "from selection_methods.elasticnet_method import ElasticNetMethod\n",
    "from selection_methods.mlrrf_method import MLRRFMethod\n",
    "from selection_methods.relieff_method import ReliefFMethod\n",
    "from selection_methods.svmrfe_method import SVMRFEMethod\n",
    "from selection_methods.boruta_method import BorutaMethod"
   ]
  },
  {
   "cell_type": "code",
   "execution_count": 2,
   "metadata": {},
   "outputs": [],
   "source": [
    "# Settings\n",
    "random_state = 42"
   ]
  },
  {
   "cell_type": "code",
   "execution_count": 3,
   "metadata": {},
   "outputs": [],
   "source": [
    "# Load and Pre-Process Data \n",
    "discovery_set = pd.read_excel('data/discovery_set.xlsx', index_col=0)\n",
    "discovery_set['state'] = discovery_set.apply(lambda a:0 if a['type']=='N' else 1, axis=1)\n",
    "plasma_df = discovery_set.copy()\n",
    "\n",
    "# Make a stratified test set\n",
    "splitter = StratifiedShuffleSplit(n_splits=1, test_size=0.33, random_state=random_state)\n",
    "for train_index, test_index in splitter.split(plasma_df, plasma_df['type']):\n",
    "    train_set, test_set = plasma_df.iloc[train_index], plasma_df.iloc[test_index]\n",
    "\n",
    "Xtrain_stratified = train_set\n",
    "Xtest_stratified = test_set\n",
    "\n",
    "ytrain_stratified = Xtrain_stratified['state']\n",
    "ytest_stratified = Xtest_stratified['state']\n",
    "\n",
    "Xtrain = Xtrain_stratified.drop(['state', 'type', 'Batch', 'batch', 'sample_id'], axis=1)\n",
    "Xtest = Xtest_stratified.drop(['state', 'type', 'Batch', 'batch', 'sample_id'], axis=1)\n",
    "\n",
    "metas = list(Xtrain.columns)\n",
    "\n",
    "ytrain = np.array(ytrain_stratified)\n",
    "ytrain = ytrain.astype(np.float32)\n",
    "\n",
    "ytest = np.array(ytest_stratified)\n",
    "ytest = ytest.astype(np.float32)\n",
    "\n",
    "Xtrain = Xtrain.values\n",
    "Xtest = Xtest.values"
   ]
  },
  {
   "cell_type": "code",
   "execution_count": 4,
   "metadata": {},
   "outputs": [
    {
     "name": "stderr",
     "output_type": "stream",
     "text": [
      "/home/mehdirt/Desktop/Feature Selection/selection_methods/alasso_method.py:41: RuntimeWarning: divide by zero encountered in divide\n",
      "  weights = np.where(np.abs(initial_coefs) > epsilon, 1 / np.abs(initial_coefs), 1 / epsilon)\n"
     ]
    },
    {
     "name": "stdout",
     "output_type": "stream",
     "text": [
      "{'LassoMethod': set(), 'AlassoMethod': set(), 'ElasticNetMethod': {'4-Pyridoxic acid_pos-018', '5-Hydroxylysine_pos-023', '1-Methylnicotinamide_pos-003', '2-Aminooctanoic acid_pos-006', '3-Indoleacrylic acid_pos-012', 'AICAR_pos-034', 'Alanine-Sarcosine_pos-035', 'Arginine_pos-038', '2-Aminoadipic acid_pos-005', '7-Methylguanosine_pos-028', 'Acetylcholine_pos-030', '1-Methylhistidine_pos-002', '5-Hydroxyindoleacetic acid_pos-021', '1-Methyladenosine_pos-001', 'Acetylcarnitine_pos-029'}, 'MLRRFMethod': {'Serotonin_pos-142', 'Fumaric acid_neg-036', 'Succinate_neg-079', 'Uridine_neg-088', 'Cholic acid_neg-023', '2-Aminooctanoic acid_pos-006', 'Hypoxanthine_pos-096', 'Tryptophan_pos-154', 'GSSG_pos-086', 'N-Acetyl-D-glucosamine 6-phosphate_neg-061', 'Pyroglutamic acid_neg-072', 'NAD_pos-115', 'Guanidineacetic acid_pos-087', 'S-Adenosyl-methionine_pos-139', 'Xanthurenic acid_neg-090'}, 'SVMRFEMethod': {'GSH_pos-085', 'Valine-Norvaline_pos-158', 'Fumaric acid_neg-036', 'N-Acetylputrescine_pos-114', 'Citrate_neg-026', 'Succinate_neg-079', 'Hypoxanthine_pos-096', '2-Aminooctanoic acid_pos-006', 'Uridine_neg-088', 'IMP_neg-051', 'Phosphocreatine_neg-067', 'α-D-Galactose 1-phosphate_neg-092', 'GSSG_pos-086', 'Uracil_pos-156', 'Pyroglutamic acid_neg-072'}, 'BorutaMethod': {'Serotonin_pos-142', 'Fumaric acid_neg-036', 'Succinate_neg-079', 'Uridine_neg-088', \"Pyridoxal 5'-phosphate_neg-071\", 'Tryptophan_pos-154', 'Nicotinamide_pos-118', 'GSSG_pos-086', 'N-Acetyl-D-glucosamine 6-phosphate_neg-061', 'Lactic acid_neg-055', 'Ribose 5-phosphate_neg-074', 'S-Adenosyl-methionine_pos-139', 'Xanthurenic acid_neg-090'}, 'ReliefFMethod': {'Serotonin_pos-142', 'Pyroglutamic acid_neg-072', 'Uridine_neg-088', 'Succinate_neg-079', 'Tryptophan_pos-154', '4-Hydroxyphenylpyruvic acid_neg-013', 'N-Acetyl-D-glucosamine 6-phosphate_neg-061', \"S-(5'-Adenosyl)-L-homocysteine_neg-075\", 'NMN_pos-162', 'NAD_pos-115', 'Lactic acid_neg-055', 'Ribose 5-phosphate_neg-074', 'S-Adenosyl-methionine_pos-139'}}\n",
      "Output Metabolites:\n",
      " {'Serotonin_pos-142', 'Succinate_neg-079', 'Uridine_neg-088', 'Pyroglutamic acid_neg-072', '2-Aminooctanoic acid_pos-006', 'N-Acetyl-D-glucosamine 6-phosphate_neg-061', 'Neopterin_pos-117', 'NMN_pos-162', 'Lactic acid_neg-055', 'S-Adenosyl-methionine_pos-139'}\n"
     ]
    }
   ],
   "source": [
    "BASE_PANEL = {'Succinate_neg-079', 'Uridine_neg-088', 'S-Adenosyl-methionine_pos-139', \n",
    "              'N-Acetyl-D-glucosamine 6-phosphate_neg-061', 'Serotonin_pos-142', \n",
    "              'Pyroglutamic acid_neg-072', 'Neopterin_pos-117', 'Lactic acid_neg-055',\n",
    "              '2-Aminooctanoic acid_pos-006', 'NMN_pos-162'}\n",
    "\n",
    "# Feature Selection\n",
    "pipeline = SelectionPipeline(metas)\n",
    "\n",
    "# Add feature selection methods\n",
    "pipeline.add_method(LassoMethod(n_features=15, alpha=1.0, max_iter=10000))\n",
    "pipeline.add_method(AlassoMethod(n_features=15, alpha=1, max_iter=10000))\n",
    "pipeline.add_method(ElasticNetMethod(n_features=15, alpha=1.0, l1_ratio=0.5, max_iter=1000))\n",
    "pipeline.add_method(MLRRFMethod(n_features=15, random_state=42))\n",
    "pipeline.add_method(SVMRFEMethod(n_features=15))\n",
    "pipeline.add_method(BorutaMethod(n_features=15))\n",
    "pipeline.add_method(ReliefFMethod(n_features=15, n_neighbors=100))\n",
    "\n",
    "# Apply feature selection pipeline on the data and get the output metabolites from each method\n",
    "metas_dict = pipeline.apply(Xtrain, ytrain)\n",
    "\n",
    "# Our Method\n",
    "differences = []\n",
    "\n",
    "for metas in metas_dict.values():\n",
    "    differences.append(metas.difference(BASE_PANEL))\n",
    "\n",
    "SEF = reduce(set.intersection, differences)\n",
    "SBP = BASE_PANEL.union(SEF)\n",
    "\n",
    "print(metas_dict)\n",
    "print(\"Output Metabolites:\\n\", SBP)\n"
   ]
  },
  {
   "cell_type": "code",
   "execution_count": null,
   "metadata": {},
   "outputs": [],
   "source": []
  }
 ],
 "metadata": {
  "kernelspec": {
   "display_name": "paper",
   "language": "python",
   "name": "python3"
  },
  "language_info": {
   "codemirror_mode": {
    "name": "ipython",
    "version": 3
   },
   "file_extension": ".py",
   "mimetype": "text/x-python",
   "name": "python",
   "nbconvert_exporter": "python",
   "pygments_lexer": "ipython3",
   "version": "3.13.0"
  }
 },
 "nbformat": 4,
 "nbformat_minor": 2
}
