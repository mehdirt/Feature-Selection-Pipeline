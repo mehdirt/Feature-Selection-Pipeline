{
 "cells": [
  {
   "cell_type": "code",
   "execution_count": 1,
   "metadata": {},
   "outputs": [],
   "source": [
    "# Importing Libraries\n",
    "import numpy as np\n",
    "import pandas as pd\n",
    "from functools import reduce\n",
    "from sklearn.model_selection import train_test_split, RepeatedKFold, StratifiedShuffleSplit, GridSearchCV\n",
    "# Importing our modules\n",
    "from pipeline.selection_pipeline import SelectionPipeline\n",
    "from selection_methods.lasso_method import LassoMethod\n",
    "from selection_methods.alasso_method import AlassoMethod\n",
    "from selection_methods.elasticnet_method import ElasticNetMethod\n",
    "from selection_methods.mlrrf_method import MLRRFMethod\n",
    "from selection_methods.relieff_method import ReliefFMethod\n",
    "from selection_methods.svmrfe_method import SVMRFEMethod\n",
    "from selection_methods.boruta_method import BorutaMethod"
   ]
  },
  {
   "cell_type": "code",
   "execution_count": 2,
   "metadata": {},
   "outputs": [],
   "source": [
    "# Settings\n",
    "random_state = 42"
   ]
  },
  {
   "cell_type": "code",
   "execution_count": 3,
   "metadata": {},
   "outputs": [],
   "source": [
    "# Load and Pre-Process Data \n",
    "discovery_set = pd.read_excel('data/discovery_set.xlsx', index_col=0)\n",
    "discovery_set['state'] = discovery_set.apply(lambda a:0 if a['type']=='N' else 1, axis=1)\n",
    "plasma_df = discovery_set.copy()\n",
    "\n",
    "# Make a stratified test set\n",
    "splitter = StratifiedShuffleSplit(n_splits=1, test_size=0.33, random_state=random_state)\n",
    "for train_index, test_index in splitter.split(plasma_df, plasma_df['type']):\n",
    "    train_set, test_set = plasma_df.iloc[train_index], plasma_df.iloc[test_index]\n",
    "\n",
    "Xtrain_stratified = train_set\n",
    "Xtest_stratified = test_set\n",
    "\n",
    "ytrain_stratified = Xtrain_stratified['state']\n",
    "ytest_stratified = Xtest_stratified['state']\n",
    "\n",
    "Xtrain = Xtrain_stratified.drop(['state', 'type', 'Batch', 'batch', 'sample_id'], axis=1)\n",
    "Xtest = Xtest_stratified.drop(['state', 'type', 'Batch', 'batch', 'sample_id'], axis=1)\n",
    "\n",
    "metas = list(Xtrain.columns)\n",
    "\n",
    "ytrain = np.array(ytrain_stratified)\n",
    "ytrain = ytrain.astype(np.float32)\n",
    "\n",
    "ytest = np.array(ytest_stratified)\n",
    "ytest = ytest.astype(np.float32)\n",
    "\n",
    "Xtrain = Xtrain.values\n",
    "Xtest = Xtest.values"
   ]
  },
  {
   "cell_type": "code",
   "execution_count": 4,
   "metadata": {},
   "outputs": [
    {
     "ename": "AttributeError",
     "evalue": "'numpy.ndarray' object has no attribute 'columns'",
     "output_type": "error",
     "traceback": [
      "\u001b[0;31m---------------------------------------------------------------------------\u001b[0m",
      "\u001b[0;31mAttributeError\u001b[0m                            Traceback (most recent call last)",
      "Cell \u001b[0;32mIn[4], line 15\u001b[0m\n\u001b[1;32m     12\u001b[0m pipeline\u001b[38;5;241m.\u001b[39madd_method(ReliefFMethod(n_features\u001b[38;5;241m=\u001b[39m\u001b[38;5;241m15\u001b[39m, n_neighbors\u001b[38;5;241m=\u001b[39m\u001b[38;5;241m100\u001b[39m))\n\u001b[1;32m     14\u001b[0m \u001b[38;5;66;03m# Apply feature selection pipeline on the data and get the output metabolites from each method\u001b[39;00m\n\u001b[0;32m---> 15\u001b[0m metas_dict \u001b[38;5;241m=\u001b[39m \u001b[43mpipeline\u001b[49m\u001b[38;5;241;43m.\u001b[39;49m\u001b[43mapply\u001b[49m\u001b[43m(\u001b[49m\u001b[43mXtrain\u001b[49m\u001b[43m,\u001b[49m\u001b[43m \u001b[49m\u001b[43mytrain\u001b[49m\u001b[43m)\u001b[49m\n\u001b[1;32m     17\u001b[0m \u001b[38;5;66;03m# Our Method\u001b[39;00m\n\u001b[1;32m     18\u001b[0m differences \u001b[38;5;241m=\u001b[39m []\n",
      "File \u001b[0;32m~/Desktop/Feature Selection/pipeline/selection_pipeline.py:13\u001b[0m, in \u001b[0;36mSelectionPipeline.apply\u001b[0;34m(self, X, y)\u001b[0m\n\u001b[1;32m     11\u001b[0m \u001b[38;5;28;01mdef\u001b[39;00m \u001b[38;5;21mapply\u001b[39m(\u001b[38;5;28mself\u001b[39m, X, y):\n\u001b[1;32m     12\u001b[0m     \u001b[38;5;28;01mfor\u001b[39;00m method \u001b[38;5;129;01min\u001b[39;00m \u001b[38;5;28mself\u001b[39m\u001b[38;5;241m.\u001b[39mmethods:\n\u001b[0;32m---> 13\u001b[0m         \u001b[43mmethod\u001b[49m\u001b[38;5;241;43m.\u001b[39;49m\u001b[43mfit\u001b[49m\u001b[43m(\u001b[49m\u001b[43mX\u001b[49m\u001b[43m,\u001b[49m\u001b[43m \u001b[49m\u001b[43my\u001b[49m\u001b[43m)\u001b[49m\n\u001b[1;32m     14\u001b[0m         \u001b[38;5;28mself\u001b[39m\u001b[38;5;241m.\u001b[39mmethod_metas[\u001b[38;5;124mf\u001b[39m\u001b[38;5;124m\"\u001b[39m\u001b[38;5;132;01m{\u001b[39;00mmethod\u001b[38;5;241m.\u001b[39m\u001b[38;5;18m__class__\u001b[39m\u001b[38;5;241m.\u001b[39m\u001b[38;5;18m__name__\u001b[39m\u001b[38;5;132;01m}\u001b[39;00m\u001b[38;5;124m\"\u001b[39m] \u001b[38;5;241m=\u001b[39m {met \u001b[38;5;28;01mfor\u001b[39;00m met \u001b[38;5;129;01min\u001b[39;00m method\u001b[38;5;241m.\u001b[39mmb_ \u001b[38;5;28;01mif\u001b[39;00m met \u001b[38;5;129;01mnot\u001b[39;00m \u001b[38;5;129;01min\u001b[39;00m \u001b[38;5;28mself\u001b[39m\u001b[38;5;241m.\u001b[39mexclude_metas}\n\u001b[1;32m     16\u001b[0m     \u001b[38;5;28;01mreturn\u001b[39;00m \u001b[38;5;28mself\u001b[39m\u001b[38;5;241m.\u001b[39mmethod_metas\n",
      "File \u001b[0;32m~/Desktop/Feature Selection/selection_methods/lasso_method.py:16\u001b[0m, in \u001b[0;36mLassoMethod.fit\u001b[0;34m(self, X, y)\u001b[0m\n\u001b[1;32m     15\u001b[0m \u001b[38;5;28;01mdef\u001b[39;00m \u001b[38;5;21mfit\u001b[39m(\u001b[38;5;28mself\u001b[39m, X, y\u001b[38;5;241m=\u001b[39m\u001b[38;5;28;01mNone\u001b[39;00m):\n\u001b[0;32m---> 16\u001b[0m     metas \u001b[38;5;241m=\u001b[39m \u001b[38;5;28mlist\u001b[39m(\u001b[43mX\u001b[49m\u001b[38;5;241;43m.\u001b[39;49m\u001b[43mcolumns\u001b[49m)\n\u001b[1;32m     18\u001b[0m     pipeline \u001b[38;5;241m=\u001b[39m Pipeline([\n\u001b[1;32m     19\u001b[0m     (\u001b[38;5;124m'\u001b[39m\u001b[38;5;124mscaler\u001b[39m\u001b[38;5;124m'\u001b[39m, StandardScaler()),  \u001b[38;5;66;03m# Scaling\u001b[39;00m\n\u001b[1;32m     20\u001b[0m     (\u001b[38;5;124m'\u001b[39m\u001b[38;5;124mlasso\u001b[39m\u001b[38;5;124m'\u001b[39m, Lasso(alpha\u001b[38;5;241m=\u001b[39m\u001b[38;5;28mself\u001b[39m\u001b[38;5;241m.\u001b[39malpha, max_iter\u001b[38;5;241m=\u001b[39m\u001b[38;5;28mself\u001b[39m\u001b[38;5;241m.\u001b[39mmax_iter))  \u001b[38;5;66;03m# Lasso regression with alpha\u001b[39;00m\n\u001b[1;32m     21\u001b[0m     ])\n\u001b[1;32m     23\u001b[0m     pipeline\u001b[38;5;241m.\u001b[39mfit(X, y)\n",
      "\u001b[0;31mAttributeError\u001b[0m: 'numpy.ndarray' object has no attribute 'columns'"
     ]
    }
   ],
   "source": [
    "BASE_PANEL = {'Succinate_neg-079', 'Uridine_neg-088', 'S-Adenosyl-methionine_pos-139', \n",
    "              'N-Acetyl-D-glucosamine 6-phosphate_neg-061', 'Serotonin_pos-142', \n",
    "              'Pyroglutamic acid_neg-072', 'Neopterin_pos-117', 'Lactic acid_neg-055',\n",
    "              '2-Aminooctanoic acid_pos-006', 'NMN_pos-162'}\n",
    "\n",
    "# Feature Selection\n",
    "pipeline = SelectionPipeline()\n",
    "\n",
    "# Add feature selection methods\n",
    "pipeline.add_method(LassoMethod(n_features=15, alpha=1.0, max_iter=1000))\n",
    "pipeline.add_method(BorutaMethod(n_features=15))\n",
    "pipeline.add_method(ReliefFMethod(n_features=15, n_neighbors=100))\n",
    "\n",
    "# Apply feature selection pipeline on the data and get the output metabolites from each method\n",
    "metas_dict = pipeline.apply(Xtrain, ytrain)\n",
    "\n",
    "# Our Method\n",
    "differences = []\n",
    "\n",
    "for metas in metas_dict.values():\n",
    "    differences.append(metas.difference(BASE_PANEL))\n",
    "\n",
    "SEF = reduce(set.intersection, differences)\n",
    "SBP = BASE_PANEL.union(SEF)\n",
    "print(SBP)\n"
   ]
  },
  {
   "cell_type": "code",
   "execution_count": null,
   "metadata": {},
   "outputs": [],
   "source": []
  }
 ],
 "metadata": {
  "kernelspec": {
   "display_name": "paper",
   "language": "python",
   "name": "python3"
  },
  "language_info": {
   "codemirror_mode": {
    "name": "ipython",
    "version": 3
   },
   "file_extension": ".py",
   "mimetype": "text/x-python",
   "name": "python",
   "nbconvert_exporter": "python",
   "pygments_lexer": "ipython3",
   "version": "3.13.0"
  }
 },
 "nbformat": 4,
 "nbformat_minor": 2
}
