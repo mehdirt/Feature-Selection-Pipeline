{
 "cells": [
  {
   "cell_type": "code",
   "execution_count": 2,
   "metadata": {},
   "outputs": [],
   "source": [
    "# Importing Libraries\n",
    "import numpy as np\n",
    "import pandas as pd\n",
    "from sklearn.model_selection import train_test_split, RepeatedKFold, StratifiedShuffleSplit, GridSearchCV\n",
    "# Importing our modules\n",
    "from pipeline.selection_pipeline import SelectionPipeline\n",
    "from selection_methods.lasso_method import LassoMethod\n",
    "from selection_methods.alasso_method import AlassoMethod\n",
    "from selection_methods.elasticnet_method import ElasticNetMethod\n",
    "from selection_methods.mlrrf_method import MLRRFMethod\n",
    "from selection_methods.relieff_method import ReliefFMethod\n",
    "from selection_methods.svmrfe_method import SVMRFEMethod\n",
    "from selection_methods.boruta_method import BorutaMethod"
   ]
  },
  {
   "cell_type": "code",
   "execution_count": 3,
   "metadata": {},
   "outputs": [],
   "source": [
    "# Settings\n",
    "random_state = 42"
   ]
  },
  {
   "cell_type": "code",
   "execution_count": 9,
   "metadata": {},
   "outputs": [],
   "source": [
    "# Load and Pre-Process Data \n",
    "discovery_set = pd.read_excel('data/discovery_set.xlsx', index_col=0)\n",
    "discovery_set['state'] = discovery_set.apply(lambda a:0 if a['type']=='N' else 1, axis=1)\n",
    "plasma_df = discovery_set.copy()\n",
    "\n",
    "# Make a stratified test set\n",
    "splitter = StratifiedShuffleSplit(n_splits=1, test_size=0.33, random_state=random_state)\n",
    "for train_index, test_index in splitter.split(plasma_df, plasma_df['type']):\n",
    "    train_set, test_set = plasma_df.iloc[train_index], plasma_df.iloc[test_index]\n",
    "\n",
    "Xtrain_stratified = train_set\n",
    "Xtest_stratified = test_set\n",
    "\n",
    "ytrain_stratified = Xtrain_stratified['state']\n",
    "ytest_stratified = Xtest_stratified['state']\n",
    "\n",
    "Xtrain = Xtrain_stratified.drop(['state', 'type', 'Batch', 'batch', 'sample_id'], axis=1)\n",
    "Xtest = Xtest_stratified.drop(['state', 'type', 'Batch', 'batch', 'sample_id'], axis=1)\n",
    "\n",
    "ytrain = np.array(ytrain_stratified)\n",
    "ytrain = ytrain.astype(np.float32)\n",
    "\n",
    "ytest = np.array(ytest_stratified)\n",
    "ytest = ytest.astype(np.float32)\n",
    "\n",
    "Xtrain = Xtrain.values\n",
    "Xtest = Xtest.values"
   ]
  },
  {
   "cell_type": "code",
   "execution_count": null,
   "metadata": {},
   "outputs": [],
   "source": [
    "# Feature Selection\n",
    "\n",
    "exclude_mets = ['Glycerate-2P_Glycerate-3P_neg-006','Citraconic acid_neg-025','Pyridoxine_pos-137','Argininosuccinic acid_pos-039']\n",
    "# The above metabolites are excluded as characteristics due to poor peak shapes in mass spectrometry\n",
    "\n",
    "pipeline = SelectionPipeline()\n",
    "\n",
    "# Add feature selection methods\n",
    "pipeline.add_method(LassoMethod(n_features=15, alpha=1.0, max_iter=1000))\n",
    "pipeline.add_method(BorutaMethod(n_features=15))\n",
    "pipeline.add_method(ReliefFMethod(n_features=15, n_neighbors=100))\n",
    "\n",
    "# Apply pipeline on the data and get the output metabolites from each method\n",
    "metas_dict = pipeline.apply(Xtrain, ytrain)\n"
   ]
  },
  {
   "cell_type": "code",
   "execution_count": null,
   "metadata": {},
   "outputs": [],
   "source": []
  }
 ],
 "metadata": {
  "kernelspec": {
   "display_name": "paper",
   "language": "python",
   "name": "python3"
  },
  "language_info": {
   "codemirror_mode": {
    "name": "ipython",
    "version": 3
   },
   "file_extension": ".py",
   "mimetype": "text/x-python",
   "name": "python",
   "nbconvert_exporter": "python",
   "pygments_lexer": "ipython3",
   "version": "3.13.0"
  }
 },
 "nbformat": 4,
 "nbformat_minor": 2
}
